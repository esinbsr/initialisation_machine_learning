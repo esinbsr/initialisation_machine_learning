{
 "cells": [
  {
   "cell_type": "markdown",
   "id": "48d82ff7-e41a-4804-bec1-facf5ac68e44",
   "metadata": {},
   "source": [
    "<h1 style=\"color:#189AB4\"> Initiation au Machine Learning</h2>"
   ]
  },
  {
   "cell_type": "markdown",
   "id": "9e6a6807-6ead-45e1-a0df-d4f9429c5723",
   "metadata": {},
   "source": [
    "<h2>But de l'exercice</h2>"
   ]
  },
  {
   "cell_type": "markdown",
   "id": "d74c7781-ef98-414e-bd85-dbbc435462c8",
   "metadata": {},
   "source": [
    "<p>Afin d'éviter qu'un prêt ne devienne un défaut de paiement, les banques doivent trouver comment\n",
    "les prédire en exploitant les données basées sur les comportements des clients. Les modèles d'apprentissage automatique semblent être l'une des solutions les plus efficaces pour prévoir les défauts de paiement. Par conséquent, l'objectif de ce projet est de construire des modèles supervisés pour les prédictions de défaut de prêt et d'explorer les impacts des facteurs comportementaux des clients sur la poursuite des prévisions.</p>"
   ]
  },
  {
   "cell_type": "markdown",
   "id": "2aebdcbe-9c7e-4b53-9405-333f0dca2af5",
   "metadata": {},
   "source": [
    "<h2>Livrables</h2>"
   ]
  },
  {
   "cell_type": "markdown",
   "id": "57053300-d340-49bb-9ea3-f7c1fdcb496f",
   "metadata": {},
   "source": [
    "- Un notebook : visualisation et de nettoyage de données\n",
    "- Un notebook : modélisation"
   ]
  },
  {
   "cell_type": "markdown",
   "id": "d6dd5444-b85c-4d2d-b5cb-598c1042222e",
   "metadata": {},
   "source": [
    "<h2>Importation des bibliothèques</h2>"
   ]
  },
  {
   "cell_type": "code",
   "execution_count": null,
   "id": "0d41788c-8a2a-45d1-8da2-9cf28594ad70",
   "metadata": {},
   "outputs": [],
   "source": [
    "import pandas as pd\n",
    "import seaborn as sns\n",
    "import matplotlib.pyplot as plt"
   ]
  },
  {
   "cell_type": "markdown",
   "id": "9e9531a2-9408-4790-b774-2dc7874b98a4",
   "metadata": {},
   "source": [
    "<h2>Lecture du fichier csv</h2>"
   ]
  },
  {
   "cell_type": "code",
   "execution_count": null,
   "id": "93491957-78e2-411f-b1c6-b625143b5532",
   "metadata": {},
   "outputs": [],
   "source": [
    "train = pd.read_csv('train.csv')"
   ]
  },
  {
   "cell_type": "markdown",
   "id": "7962b35e-00f5-48aa-9d9d-dd154353f060",
   "metadata": {},
   "source": [
    "<h2>Création d'une copie du fichier csv</h2>"
   ]
  },
  {
   "cell_type": "code",
   "execution_count": null,
   "id": "02955691-646d-475a-b371-709fb1c0be2f",
   "metadata": {},
   "outputs": [],
   "source": [
    "train_copie = train.copy()"
   ]
  },
  {
   "cell_type": "markdown",
   "id": "954df905-4eca-40c5-b519-dfe4e3cbd8c2",
   "metadata": {},
   "source": [
    "<i style=\"color:#90ADC6\">-> je crée des copy des fichiers csv originaux car je ne veux pas écraser l'original.</p>"
   ]
  },
  {
   "cell_type": "markdown",
   "id": "25cd4516-cfa4-4e5a-a2e5-9e28c2e0d4ca",
   "metadata": {},
   "source": [
    "<h2>Affichage et vérifications des données</h2>"
   ]
  },
  {
   "cell_type": "code",
   "execution_count": null,
   "id": "e594fead-c594-4f87-aa95-4253f0f77551",
   "metadata": {},
   "outputs": [],
   "source": [
    "pd.set_option('display.max_columns', None) #affiche toutes les colonnes\n",
    "train_copie.head()"
   ]
  },
  {
   "cell_type": "code",
   "execution_count": null,
   "id": "25ef13fe-f5b5-4a62-a4aa-0882dbd2f36f",
   "metadata": {},
   "outputs": [],
   "source": [
    "train_copie.shape"
   ]
  },
  {
   "cell_type": "code",
   "execution_count": null,
   "id": "871989da-4725-4b2b-badc-aa600d0e54f3",
   "metadata": {},
   "outputs": [],
   "source": [
    "train_copie.info()"
   ]
  },
  {
   "cell_type": "code",
   "execution_count": null,
   "id": "17a76139-8242-4f79-a78c-3ca14f5f6cda",
   "metadata": {},
   "outputs": [],
   "source": [
    "train_copie.describe()"
   ]
  },
  {
   "cell_type": "code",
   "execution_count": null,
   "id": "41504b94-6bcc-48e0-a2f8-9495e79599c6",
   "metadata": {},
   "outputs": [],
   "source": [
    "train_copie.duplicated().sum()"
   ]
  },
  {
   "cell_type": "markdown",
   "id": "b3ad8b3b-b115-4865-9531-d14004ecb1c3",
   "metadata": {},
   "source": [
    "<i style=\"color:#90ADC6\">->Il y a 3 doublons dans ce dataset, les lignes sont identiques, je penses que ce n'est pas pertinent de garder ces données, mais je ne les supprime pas pour le moment, il faut que je fasse plus de recherche pour prendre une décision final.</i>"
   ]
  },
  {
   "cell_type": "code",
   "execution_count": null,
   "id": "3d6394d0-f7f5-41a7-91f1-74931416053b",
   "metadata": {},
   "outputs": [],
   "source": [
    "train_copie.dtypes"
   ]
  },
  {
   "cell_type": "markdown",
   "id": "47559a17-de92-481e-9f5b-311cec87e978",
   "metadata": {},
   "source": [
    "<i style=\"color:#90ADC6\">->Au total, il y a 2100 transactions. Parmis ces données, 612 lignes ne sont pas des prêts je pense où alors les données de prêt sont manquantes.</i>"
   ]
  },
  {
   "cell_type": "markdown",
   "id": "065ddccb-7e40-45df-af7d-148bb56e2d70",
   "metadata": {},
   "source": [
    "<h2>Vérification des valeurs nulles</h2>"
   ]
  },
  {
   "cell_type": "code",
   "execution_count": null,
   "id": "fd88bbfa-1b3c-4da3-b4e4-fd6e5dab08c3",
   "metadata": {},
   "outputs": [],
   "source": [
    "train_copie.isnull().sum()"
   ]
  },
  {
   "cell_type": "markdown",
   "id": "04f19f54-37cc-4b07-971c-70cc33748c9a",
   "metadata": {},
   "source": [
    "<i style=\"color:#90ADC6\">->Je vois qu'il y a des lignes en trop dans DueDate, LoanApplicationId, ThirdPartyId, et je trouve ça anormal, par exemple, pourquoi est-ce qu'il y a 614 dates limite de remboursement (DueDate) mais seulement 612 id de transaction de prêt (LoanId), il y a des lignes de trop. </p>"
   ]
  },
  {
   "cell_type": "code",
   "execution_count": null,
   "id": "dd3b07be-350e-4bf5-9e1d-3bdf98f7c9a8",
   "metadata": {},
   "outputs": [],
   "source": [
    "train_null = train_copie[train_copie.isna().any(axis=1)]\n",
    "train_null"
   ]
  },
  {
   "cell_type": "markdown",
   "id": "d81f5389-c511-45f5-bb66-eef00b6d7bcf",
   "metadata": {},
   "source": [
    "<i style=\"color:#90ADC6\">->J'affiche les lignes qui ont au moins 1 \"nan\". Je vois que tous les gens qui ont un \"nan\" ont transactionstatus à 0, donc je vais explorer cette colonne.</p>"
   ]
  },
  {
   "cell_type": "code",
   "execution_count": null,
   "id": "881253ea-247b-4adc-9afc-799286113881",
   "metadata": {},
   "outputs": [],
   "source": [
    "train_null['TransactionStatus'].value_counts()"
   ]
  },
  {
   "cell_type": "markdown",
   "id": "9b905129-0294-4ef3-ab0f-e6c6dd413077",
   "metadata": {},
   "source": [
    "<i style=\"color:#90ADC6\">->Je vois qu'il y a 9 valeurs à 1, donc 9 lignes avec un prêt accepté, mais qui ont des valeurs manquantes dans certaines colonnes, ce qui est anormal. Je vais afficher ces 9 lignes suspects.</p>"
   ]
  },
  {
   "cell_type": "code",
   "execution_count": null,
   "id": "5dc20931-7792-4241-8757-6c0f4e169218",
   "metadata": {},
   "outputs": [],
   "source": [
    "train_null.loc[train_null['TransactionStatus'] == 1]"
   ]
  },
  {
   "cell_type": "markdown",
   "id": "e509ee9c-2211-4049-92bc-2ab84d085b99",
   "metadata": {},
   "source": [
    "<i style=\"color:#90ADC6\">->Parmis les 9 lignes affichés, je vois le CustomerId_258 avec 3 transactions sans LoandApplicationId mais qui ont le même BatchId, donc c'est peut-être un paiement en plusieurs fois, un remboursement. Je pense que ce n'est pas une ligne de demande de prêt, la demande de prêt doit être sur une autre ligne à mon avis. Ce n'est qu'une hypothèse. </p>"
   ]
  },
  {
   "cell_type": "code",
   "execution_count": null,
   "id": "d9f32892-993d-4a1b-a1e6-6df5b8bbdd90",
   "metadata": {},
   "outputs": [],
   "source": [
    "train_copie[train_copie['CustomerId'] == \"CustomerId_258\"]"
   ]
  },
  {
   "cell_type": "code",
   "execution_count": null,
   "id": "44983947-a6ec-44c4-a5b4-3c1d328d0c4a",
   "metadata": {},
   "outputs": [],
   "source": [
    "train_null.loc[train_null['TransactionId'] == \"TransactionId_1041\"]"
   ]
  },
  {
   "cell_type": "code",
   "execution_count": null,
   "id": "6f9ed04a-670d-44af-b6d6-f430dbcfabf7",
   "metadata": {},
   "outputs": [],
   "source": [
    "train_null.loc[train_null['BatchId'] == \"BatchId_1970\"]"
   ]
  },
  {
   "cell_type": "markdown",
   "id": "49b6be85-1a14-4fc1-bf6a-208a2ae628df",
   "metadata": {},
   "source": [
    "<i style=\"color:#90ADC6\">->Ma théorie qui disait que la demande de prêt doit être sur une autre ligne est fausse. J'affiche toutes les transactions de la personnes qui ont le même BatchId ou TransactionId mais il y en a pas. Ou alors je recherche la mauvaise donnée.</p>"
   ]
  },
  {
   "cell_type": "code",
   "execution_count": null,
   "id": "6f19f3e7-23b1-4e33-a42c-825ef9ffcf8a",
   "metadata": {},
   "outputs": [],
   "source": [
    "train_copie[(train_copie['CustomerId'] == 'CustomerId_258') & (train_copie['LoanApplicationId'].notna())]"
   ]
  },
  {
   "cell_type": "markdown",
   "id": "48825218-e7a0-4b19-ba08-69caf2fc68ed",
   "metadata": {},
   "source": [
    "<i style=\"color:#90ADC6\">->J'affiche les transactions du CustomerId_258 qui n'ont pas de LoanApplicationId, donc pas de demande de prêt.</p>"
   ]
  },
  {
   "cell_type": "markdown",
   "id": "b595813c-f208-42fc-9b25-378e9aa9a363",
   "metadata": {},
   "source": [
    "<h2>Modifications des types de données incorrectes</h2>"
   ]
  },
  {
   "cell_type": "code",
   "execution_count": null,
   "id": "9148471f-e22e-4b55-9332-f237e30c5701",
   "metadata": {},
   "outputs": [],
   "source": [
    "train_copie[['TransactionStartTime', 'IssuedDateLoan', 'PaidOnDate', 'DueDate']] = train_copie[['TransactionStartTime', 'IssuedDateLoan', 'PaidOnDate', 'DueDate']].apply(pd.to_datetime, errors='coerce')\n",
    "train_copie[['TransactionStatus', 'IsFinalPayBack', 'IsThirdPartyConfirmed', 'IsDefaulted']] = train_copie[['TransactionStatus', 'IsFinalPayBack', 'IsThirdPartyConfirmed', 'IsDefaulted']].fillna(0).astype(int)"
   ]
  },
  {
   "cell_type": "markdown",
   "id": "fee4e3b7-b540-4e23-b8f9-e2a7020da189",
   "metadata": {},
   "source": [
    "<i style=\"color:#90ADC6\">-> Après une analyse des types de données, je vois que certaines colonnes n'ont pas le bon type de données, donc je les convertis. J'ai aussi dû les convertir rapidement car j'avais besoin d'effectuer des calcules mais les colonnes n'avaient pas le bon type, donc ça me mettait une erreur.</p>"
   ]
  },
  {
   "cell_type": "markdown",
   "id": "efb1d84a-6da0-4e2c-b3fd-d47592987487",
   "metadata": {},
   "source": [
    "<h2>Affichage des clients avec un retard de paiement</h2>"
   ]
  },
  {
   "cell_type": "code",
   "execution_count": null,
   "id": "0f7ff707-3991-462a-a2e8-b66a6e55c17d",
   "metadata": {},
   "outputs": [],
   "source": [
    "train_copie['DaysLate'] = (train_copie['PaidOnDate'] - train_copie['DueDate']).dt.days\n",
    "train_copie"
   ]
  },
  {
   "cell_type": "markdown",
   "id": "59b431b9-2573-41f4-af62-e4d2fde1f0b8",
   "metadata": {},
   "source": [
    "<i style=\"color:#90ADC6\">->Ici, je crée une nouvelle colonne qui affiche le nombre de jour en retard ou non d'un remboursement de prêt. </p>"
   ]
  },
  {
   "cell_type": "code",
   "execution_count": null,
   "id": "f7f6b570-2c75-4098-87ec-38f2bb9dd90e",
   "metadata": {},
   "outputs": [],
   "source": [
    "retard_paiement = train_copie[train_copie['DaysLate'] > 0]\n",
    "retard_paiement"
   ]
  },
  {
   "cell_type": "markdown",
   "id": "fca8fa30-450c-4371-abf3-6586c8d2480e",
   "metadata": {},
   "source": [
    "<i style=\"color:#90ADC6\">-> Je vois que certaines lignes ont dépasser le délais de paiement mais IsDefaulted est à 0, ce qui est illogique car il est censé être à 1 puisque ils n'ont pas payé à temps.</p>"
   ]
  },
  {
   "cell_type": "code",
   "execution_count": null,
   "id": "b9f64547-cf06-4c49-92b9-0d02bd780437",
   "metadata": {},
   "outputs": [],
   "source": [
    "train_copie['DaysLate'] = train_copie['DaysLate'].fillna(0).astype(int)"
   ]
  },
  {
   "cell_type": "markdown",
   "id": "0a7b3567-16f9-4823-b0cf-55bc9057f0eb",
   "metadata": {},
   "source": [
    "<i style=\"color:#90ADC6\">->Je convertis ma nouvelle colonne DaysLate en entier et je remplace les valeurs \"NAN\" par 0. </p>"
   ]
  },
  {
   "cell_type": "code",
   "execution_count": null,
   "id": "dc109453-819c-4ff1-ace8-5f6482dd5e15",
   "metadata": {},
   "outputs": [],
   "source": [
    "#afficher les lignes qui ont un retard de paiement mais qui sont pas en defaut IsDefaulted (0)\n",
    "train_copie.loc[(train_copie['IsDefaulted'] == 0) & (train_copie['PaidOnDate'] > train_copie['DueDate'])]"
   ]
  },
  {
   "cell_type": "markdown",
   "id": "d5edeb76-8486-47bb-9dd5-ff599912f7cf",
   "metadata": {},
   "source": [
    "<i style=\"color:#90ADC6\"> ->Ici, je m'apperçois qu'il y a 341 anomalies. Ils sont pas en défaut mais ont un retard de paiement.  </p>"
   ]
  },
  {
   "cell_type": "code",
   "execution_count": null,
   "id": "2bc3f51f-6825-4a76-bfd6-541a8dc641e9",
   "metadata": {},
   "outputs": [],
   "source": [
    "train_copie.loc[(train_copie['IsDefaulted'] == 1) & (train_copie['IsFinalPayBack'] == 0)]"
   ]
  },
  {
   "cell_type": "markdown",
   "id": "d2709472-3bdd-4551-8beb-e9c1fd62d2de",
   "metadata": {},
   "source": [
    "<i style=\"color:#90ADC6\"> -> Ici, mon but est de vérifier que IsDefaulted s'applique bien aux personnes qui n'ont pas fini de payer(IsFinalPayback) donc j'affiche les personnes qui sont en défaut (1) et qui ne sont pas au dernier versement(0) pour voir si une personne peut-être en défaut avant d'avoir fini de payer. En finalité, je vois que les personnes qui n'ont pas fini de payer ne sont pas en défaut s'ils n'ont pas fini de payer. </p>"
   ]
  },
  {
   "cell_type": "code",
   "execution_count": null,
   "id": "4496aca0-1769-4b5d-8c26-57d4e4db0bed",
   "metadata": {},
   "outputs": [],
   "source": [
    "train_nvl_colonne = train_copie.copy()"
   ]
  },
  {
   "cell_type": "code",
   "execution_count": null,
   "id": "2b30aecc-0578-4401-990b-265d0f4a5c08",
   "metadata": {},
   "outputs": [],
   "source": [
    "train_nvl_colonne.head()"
   ]
  },
  {
   "cell_type": "code",
   "execution_count": null,
   "id": "fccb478b-19de-4a62-bd53-5f7fe12b1423",
   "metadata": {},
   "outputs": [],
   "source": [
    "train_nvl_colonne['NumberTransaction'] = train_nvl_colonne.groupby('CustomerId')['TransactionId'].transform('count')"
   ]
  },
  {
   "cell_type": "markdown",
   "id": "f7fdd487-3d80-4da8-9d55-a5a659c6bad4",
   "metadata": {},
   "source": [
    "<i style=\"color:#90ADC6\"> -> Je crée une nouvelle colonne pour afficher les transactions par client. </i>"
   ]
  },
  {
   "cell_type": "code",
   "execution_count": null,
   "id": "daaff4c8-7d2f-4aaf-915d-a6220600edc0",
   "metadata": {},
   "outputs": [],
   "source": [
    "nb_prets = train_nvl_colonne[train_nvl_colonne['AmountLoan'].notnull()].groupby('CustomerId').size().rename('NumberLoan')\n",
    "train_nvl_colonne = train_nvl_colonne.merge(nb_prets, on='CustomerId', how='left')\n",
    "train_nvl_colonne['NumberLoan'] = train_nvl_colonne['NumberLoan'].fillna(0).astype(int)"
   ]
  },
  {
   "cell_type": "markdown",
   "id": "e28066da-58bb-45fc-b4ae-07b7b569db56",
   "metadata": {},
   "source": [
    "<i style=\"color:#90ADC6\"> -> Je crée une nouvelle colonne pour afficher les prêts par client. Je récupère toutes les lignes qui comporte un AmountLoan, car il y a des lignes ou il y en a pas.</i>"
   ]
  },
  {
   "cell_type": "code",
   "execution_count": null,
   "id": "9bd4b098-a1f1-4f7c-966f-cc595ac00ba6",
   "metadata": {},
   "outputs": [],
   "source": [
    "train_nvl_colonne.tail()"
   ]
  },
  {
   "cell_type": "markdown",
   "id": "aff23969-99e0-4bc2-b881-baf9aac0e712",
   "metadata": {},
   "source": [
    "<h2>Vérification des corélations entre les colonnes</h2>"
   ]
  },
  {
   "cell_type": "code",
   "execution_count": null,
   "id": "272dacd6-0b04-442e-a2ec-08fa8ff3c162",
   "metadata": {},
   "outputs": [],
   "source": [
    "pearson_corr = train_copie.select_dtypes(include=['int64', 'float']).corr(method='pearson')\n",
    "pearson_corr"
   ]
  },
  {
   "cell_type": "code",
   "execution_count": null,
   "id": "5d43918a-670f-4ca8-adf3-5dfb9a7543c0",
   "metadata": {},
   "outputs": [],
   "source": [
    "sns.heatmap(pearson_corr, annot=True, cmap='coolwarm')\n",
    "plt.title(\"Pearson Correlation Heatmap\")\n",
    "plt.show()"
   ]
  },
  {
   "cell_type": "markdown",
   "id": "09728d61-c5d5-4d2b-bb71-0815adb89b9c",
   "metadata": {},
   "source": [
    "<i style=\"color:#90ADC6\"> -> Je vérifie les liens que les colonnes ont entres elles.</i>"
   ]
  },
  {
   "cell_type": "markdown",
   "id": "4f59b766-e38f-41e5-8dde-3951cb864850",
   "metadata": {},
   "source": [
    "<h2>Correction de mon dataframe après avoir essayé de modéliser</h2>"
   ]
  },
  {
   "cell_type": "markdown",
   "id": "8bacd7d7-4b5d-47dc-b3b6-e11058a7af22",
   "metadata": {},
   "source": [
    "<i style=\"color:#90ADC6\">-> En essayant d'entraîner mon modèle j'obtiens une erreur, ça me dit que il y a des valeurs manquantes \"Input X contains NaN\". Je vais essayer de corriger l'erreur.</i>"
   ]
  },
  {
   "cell_type": "code",
   "execution_count": null,
   "id": "26394db9-a508-4799-a306-16520cc312a1",
   "metadata": {},
   "outputs": [],
   "source": [
    "train_copie['IsDefaulted'].isnull().sum()"
   ]
  },
  {
   "cell_type": "markdown",
   "id": "81df2787-db41-4afd-9c0c-6a7887fea78c",
   "metadata": {},
   "source": [
    "<i style=\"color:#90ADC6\">-> Je vois que parmis les colonnes pertinentes que je veux utiliser pour entraîner le modèle, il y a AmountLoan et days_late qui comportent des \"nan\" donc je vais les remplacer.</i>"
   ]
  },
  {
   "cell_type": "code",
   "execution_count": null,
   "id": "383f1e50-163e-4e69-b738-b00236b28c65",
   "metadata": {},
   "outputs": [],
   "source": [
    "train_nvl_colonne.head()"
   ]
  },
  {
   "cell_type": "markdown",
   "id": "5c17df7a-ee68-473e-afca-a43124ced45b",
   "metadata": {},
   "source": [
    "<h2>Exportation de mon dataframe</h2>"
   ]
  },
  {
   "cell_type": "code",
   "execution_count": null,
   "id": "fd946d06-fe15-4c8a-9980-b122266a1913",
   "metadata": {},
   "outputs": [],
   "source": [
    "train_nvl_colonne.to_csv('train_copie.csv', index=False)"
   ]
  },
  {
   "cell_type": "markdown",
   "id": "184cc95c-7183-416e-9c58-dc057b687016",
   "metadata": {},
   "source": [
    "<i style=\"color:#90ADC6\"> -> J'exporte mon nouveau dataset pour pouvoir l'utiliser dans mon autre notebook, la où je vais faire la modélisation.</i>"
   ]
  }
 ],
 "metadata": {
  "kernelspec": {
   "display_name": "Python [conda env:base] *",
   "language": "python",
   "name": "conda-base-py"
  },
  "language_info": {
   "codemirror_mode": {
    "name": "ipython",
    "version": 3
   },
   "file_extension": ".py",
   "mimetype": "text/x-python",
   "name": "python",
   "nbconvert_exporter": "python",
   "pygments_lexer": "ipython3",
   "version": "3.12.7"
  }
 },
 "nbformat": 4,
 "nbformat_minor": 5
}
